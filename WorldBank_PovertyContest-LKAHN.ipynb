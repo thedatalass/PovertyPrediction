{
 "cells": [
  {
   "cell_type": "code",
   "execution_count": 1,
   "metadata": {
    "collapsed": true
   },
   "outputs": [],
   "source": [
    "#Problem Statement: Predict whether a country is poor based on World Bank household survey data for countries\n",
    "#A, B and C - http://drivendata.co/blog/worldbank-poverty-benchmark/\n",
    "\n",
    "#import libraries: dataframe manipulation, machine learning, os tools\n",
    "import pandas as pd\n",
    "from pandas import Series, DataFrame\n",
    "import numpy as np\n",
    "import os\n",
    "import csv\n",
    "import matplotlib.pylab as plt\n",
    "import scipy.stats as stats\n",
    "import sklearn"
   ]
  },
  {
   "cell_type": "code",
   "execution_count": 2,
   "metadata": {
    "collapsed": false,
    "scrolled": true
   },
   "outputs": [],
   "source": [
    "#A-training data has 342 features, 3703 poor = True, 4500 poor=False\n",
    "Atrain = pd.read_csv(\"A_hhold_train.csv\")"
   ]
  },
  {
   "cell_type": "code",
   "execution_count": 3,
   "metadata": {
    "collapsed": false
   },
   "outputs": [],
   "source": [
    "#B training has 440 features with poor = T 251 instances and poor =F 3004 instances\n",
    "Btrain = pd.read_csv(\"B_hhold_train.csv\")"
   ]
  },
  {
   "cell_type": "code",
   "execution_count": 4,
   "metadata": {
    "collapsed": false,
    "scrolled": true
   },
   "outputs": [],
   "source": [
    "#C training has 163 features with poor = T 973 instances and poor =F 5496 instances\n",
    "Ctrain = pd.read_csv(\"C_hhold_train.csv\")"
   ]
  },
  {
   "cell_type": "code",
   "execution_count": 5,
   "metadata": {
    "collapsed": false
   },
   "outputs": [
    {
     "data": {
      "image/png": "[encoded data removed]",
      "text/plain": [
       "<matplotlib.figure.Figure at 0xf23f9b0>"
      ]
     },
     "metadata": {},
     "output_type": "display_data"
    }
   ],
   "source": [
    "#Country A - encode the categorical features as numbers to try to figure out which \n",
    "#features most influence classification of poor or not.\n",
    "\n",
    "#Let's explore the correlation between the different features in the columns.\n",
    "%matplotlib inline\n",
    "import numpy as np\n",
    "import seaborn as sns\n",
    "from sklearn import preprocessing\n",
    "def number_encode_features(Atrain):\n",
    "    result = Atrain.copy()\n",
    "    encoders = {}\n",
    "    for column in result.columns:\n",
    "        if result.dtypes[column] == np.object:\n",
    "            encoders[column] = preprocessing.LabelEncoder()\n",
    "            result[column] = encoders[column].fit_transform(result[column])\n",
    "    return result, encoders\n",
    "\n",
    "# Plot the correlation between features as a heatmap\n",
    "encoded_data, _ = number_encode_features(Atrain)\n",
    "sns.heatmap(Atrain.corr(), square=True)\n",
    "plt.show()\n",
    "\n",
    "#Dimensionality reduction from 343 features to 4 features would be 'nEsgxvAq', 'OmtioXZZ', 'YFMZwKrU' and 'TrwRslOh'\n",
    "#However, let's not throw away any features just yet.\n",
    "\n",
    "#From the correlation plot, it appears that 'nEsgxvAq' is highly positively correlated (0.4) with 'poor'\n",
    "#'OmtioXZZ' is slightly negatively correlated (-0.2), 'YFMZwKrU' is slightly more negatively correlated (-0.3),\n",
    "# and 'TrwRslOh' is negatively correlated (-0.35)."
   ]
  },
  {
   "cell_type": "code",
   "execution_count": null,
   "metadata": {
    "collapsed": true
   },
   "outputs": [],
   "source": [
    "#Preprocess the data for country A - convert object types to categoricals\n",
    "# Standardize features\n",
    "def standardize(Atrain, numeric_only=True):\n",
    "    numeric = Atrain.select_dtypes(include=['int64', 'float64'])\n",
    "    \n",
    "    # subtracy mean and divide by std\n",
    "    Atrain[numeric.columns] = (numeric - numeric.mean()) / numeric.std()\n",
    "    \n",
    "    return Atrain\n",
    "    \n",
    "def pre_process_data(Atrain, enforce_cols=None):\n",
    "    print(\"Input shape:\\t{}\".format(Atrain.shape))\n",
    "        \n",
    "    df = standardize(Atrain)\n",
    "    print(\"After standardization {}\".format(Atrain.shape))\n",
    "        \n",
    "    # create dummy variables for categoricals\n",
    "    df = pd.get_dummies(Atrain)\n",
    "    print(\"After converting categoricals:\\t{}\".format(Atrain.shape))\n",
    "    \n",
    "\n",
    "    # match test set and training set columns\n",
    "    if enforce_cols is not None:\n",
    "        to_drop = np.setdiff1d(Atrain.columns, enforce_cols)\n",
    "        to_add = np.setdiff1d(enforce_cols, Atrain.columns)\n",
    "\n",
    "        Atrain.drop(to_drop, axis=1, inplace=True)\n",
    "        df = Atrain.assign(**{c: 0 for c in to_add})\n",
    "    \n",
    "    Atrain.fillna(0, inplace=True)\n",
    "    \n",
    "    return df"
   ]
  },
  {
   "cell_type": "code",
   "execution_count": 6,
   "metadata": {
    "collapsed": false
   },
   "outputs": [
    {
     "name": "stdout",
     "output_type": "stream",
     "text": [
      "Country A\n",
      "Input shape:\t(8203, 345)\n",
      "After standardization (8203, 345)\n",
      "After converting categoricals:\t(8203, 345)\n"
     ]
    }
   ],
   "source": [
    "print(\"Country A\")\n",
    "aX_train = pre_process_data(Atrain.drop('poor', axis=1))\n",
    "ay_train = np.ravel(Atrain.poor)"
   ]
  },
  {
   "cell_type": "code",
   "execution_count": 8,
   "metadata": {
    "collapsed": false
   },
   "outputs": [
    {
     "data": {
      "text/html": [
       "<div>\n",
       "<table border=\"1\" class=\"dataframe\">\n",
       "  <thead>\n",
       "    <tr style=\"text-align: right;\">\n",
       "      <th></th>\n",
       "      <th>id</th>\n",
       "      <th>nEsgxvAq</th>\n",
       "      <th>OMtioXZZ</th>\n",
       "      <th>YFMZwKrU</th>\n",
       "      <th>TiwRslOh</th>\n",
       "      <th>country_A</th>\n",
       "      <th>wBXbHZmp_DkQlr</th>\n",
       "      <th>wBXbHZmp_JhtDR</th>\n",
       "      <th>SlDKnCuu_GUusz</th>\n",
       "      <th>SlDKnCuu_alLXR</th>\n",
       "      <th>...</th>\n",
       "      <th>JCDeZBXq_LPtkN</th>\n",
       "      <th>JCDeZBXq_UyAms</th>\n",
       "      <th>HGPWuGlV_WKNwg</th>\n",
       "      <th>HGPWuGlV_vkbkA</th>\n",
       "      <th>GDUPaBQs_qCEuA</th>\n",
       "      <th>GDUPaBQs_qQxrL</th>\n",
       "      <th>WuwrCsIY_AITFl</th>\n",
       "      <th>WuwrCsIY_GAZGl</th>\n",
       "      <th>AlDbXTlZ_aQeIm</th>\n",
       "      <th>AlDbXTlZ_cecIq</th>\n",
       "    </tr>\n",
       "  </thead>\n",
       "  <tbody>\n",
       "    <tr>\n",
       "      <th>0</th>\n",
       "      <td>-0.123796</td>\n",
       "      <td>-1.447160</td>\n",
       "      <td>0.325746</td>\n",
       "      <td>1.099716</td>\n",
       "      <td>-0.628045</td>\n",
       "      <td>1</td>\n",
       "      <td>0</td>\n",
       "      <td>1</td>\n",
       "      <td>1</td>\n",
       "      <td>0</td>\n",
       "      <td>...</td>\n",
       "      <td>1</td>\n",
       "      <td>0</td>\n",
       "      <td>0</td>\n",
       "      <td>1</td>\n",
       "      <td>0</td>\n",
       "      <td>1</td>\n",
       "      <td>1</td>\n",
       "      <td>0</td>\n",
       "      <td>1</td>\n",
       "      <td>0</td>\n",
       "    </tr>\n",
       "    <tr>\n",
       "      <th>1</th>\n",
       "      <td>1.148155</td>\n",
       "      <td>-0.414625</td>\n",
       "      <td>-0.503468</td>\n",
       "      <td>-0.016050</td>\n",
       "      <td>0.713467</td>\n",
       "      <td>1</td>\n",
       "      <td>0</td>\n",
       "      <td>1</td>\n",
       "      <td>1</td>\n",
       "      <td>0</td>\n",
       "      <td>...</td>\n",
       "      <td>0</td>\n",
       "      <td>1</td>\n",
       "      <td>0</td>\n",
       "      <td>1</td>\n",
       "      <td>0</td>\n",
       "      <td>1</td>\n",
       "      <td>1</td>\n",
       "      <td>0</td>\n",
       "      <td>0</td>\n",
       "      <td>1</td>\n",
       "    </tr>\n",
       "    <tr>\n",
       "      <th>2</th>\n",
       "      <td>1.693262</td>\n",
       "      <td>0.617910</td>\n",
       "      <td>-0.503468</td>\n",
       "      <td>-0.016050</td>\n",
       "      <td>0.713467</td>\n",
       "      <td>1</td>\n",
       "      <td>0</td>\n",
       "      <td>1</td>\n",
       "      <td>0</td>\n",
       "      <td>1</td>\n",
       "      <td>...</td>\n",
       "      <td>0</td>\n",
       "      <td>1</td>\n",
       "      <td>0</td>\n",
       "      <td>1</td>\n",
       "      <td>0</td>\n",
       "      <td>1</td>\n",
       "      <td>1</td>\n",
       "      <td>0</td>\n",
       "      <td>1</td>\n",
       "      <td>0</td>\n",
       "    </tr>\n",
       "    <tr>\n",
       "      <th>3</th>\n",
       "      <td>1.635970</td>\n",
       "      <td>0.617910</td>\n",
       "      <td>-0.503468</td>\n",
       "      <td>-0.016050</td>\n",
       "      <td>0.266296</td>\n",
       "      <td>1</td>\n",
       "      <td>0</td>\n",
       "      <td>1</td>\n",
       "      <td>1</td>\n",
       "      <td>0</td>\n",
       "      <td>...</td>\n",
       "      <td>0</td>\n",
       "      <td>1</td>\n",
       "      <td>0</td>\n",
       "      <td>1</td>\n",
       "      <td>0</td>\n",
       "      <td>1</td>\n",
       "      <td>1</td>\n",
       "      <td>0</td>\n",
       "      <td>0</td>\n",
       "      <td>1</td>\n",
       "    </tr>\n",
       "    <tr>\n",
       "      <th>4</th>\n",
       "      <td>0.000822</td>\n",
       "      <td>-0.414625</td>\n",
       "      <td>1.154960</td>\n",
       "      <td>1.099716</td>\n",
       "      <td>0.713467</td>\n",
       "      <td>1</td>\n",
       "      <td>0</td>\n",
       "      <td>1</td>\n",
       "      <td>1</td>\n",
       "      <td>0</td>\n",
       "      <td>...</td>\n",
       "      <td>1</td>\n",
       "      <td>0</td>\n",
       "      <td>0</td>\n",
       "      <td>1</td>\n",
       "      <td>0</td>\n",
       "      <td>1</td>\n",
       "      <td>1</td>\n",
       "      <td>0</td>\n",
       "      <td>0</td>\n",
       "      <td>1</td>\n",
       "    </tr>\n",
       "  </tbody>\n",
       "</table>\n",
       "<p>5 rows × 860 columns</p>\n",
       "</div>"
      ],
      "text/plain": [
       "         id  nEsgxvAq  OMtioXZZ  YFMZwKrU  TiwRslOh  country_A  \\\n",
       "0 -0.123796 -1.447160  0.325746  1.099716 -0.628045          1   \n",
       "1  1.148155 -0.414625 -0.503468 -0.016050  0.713467          1   \n",
       "2  1.693262  0.617910 -0.503468 -0.016050  0.713467          1   \n",
       "3  1.635970  0.617910 -0.503468 -0.016050  0.266296          1   \n",
       "4  0.000822 -0.414625  1.154960  1.099716  0.713467          1   \n",
       "\n",
       "   wBXbHZmp_DkQlr  wBXbHZmp_JhtDR  SlDKnCuu_GUusz  SlDKnCuu_alLXR  \\\n",
       "0               0               1               1               0   \n",
       "1               0               1               1               0   \n",
       "2               0               1               0               1   \n",
       "3               0               1               1               0   \n",
       "4               0               1               1               0   \n",
       "\n",
       "        ...        JCDeZBXq_LPtkN  JCDeZBXq_UyAms  HGPWuGlV_WKNwg  \\\n",
       "0       ...                     1               0               0   \n",
       "1       ...                     0               1               0   \n",
       "2       ...                     0               1               0   \n",
       "3       ...                     0               1               0   \n",
       "4       ...                     1               0               0   \n",
       "\n",
       "   HGPWuGlV_vkbkA  GDUPaBQs_qCEuA  GDUPaBQs_qQxrL  WuwrCsIY_AITFl  \\\n",
       "0               1               0               1               1   \n",
       "1               1               0               1               1   \n",
       "2               1               0               1               1   \n",
       "3               1               0               1               1   \n",
       "4               1               0               1               1   \n",
       "\n",
       "   WuwrCsIY_GAZGl  AlDbXTlZ_aQeIm  AlDbXTlZ_cecIq  \n",
       "0               0               1               0  \n",
       "1               0               0               1  \n",
       "2               0               1               0  \n",
       "3               0               0               1  \n",
       "4               0               0               1  \n",
       "\n",
       "[5 rows x 860 columns]"
      ]
     },
     "execution_count": 8,
     "metadata": {},
     "output_type": "execute_result"
    }
   ],
   "source": [
    "aX_train.head()"
   ]
  },
  {
   "cell_type": "code",
   "execution_count": 8,
   "metadata": {
    "collapsed": false
   },
   "outputs": [],
   "source": [
    "#TEST DATA - HOUSEHOLD SURVEYS is same as training data ,\n",
    "#except the poor column is not included\n",
    "\n",
    "Atest = pd.read_csv(\"A_hhold_test.csv\")"
   ]
  },
  {
   "cell_type": "code",
   "execution_count": 9,
   "metadata": {
    "collapsed": false
   },
   "outputs": [],
   "source": [
    "Btest = pd.read_csv(\"B_hhold_test.csv\")"
   ]
  },
  {
   "cell_type": "code",
   "execution_count": 10,
   "metadata": {
    "collapsed": false
   },
   "outputs": [],
   "source": [
    "Ctest = pd.read_csv(\"C_hhold_test.csv\")"
   ]
  },
  {
   "cell_type": "code",
   "execution_count": 11,
   "metadata": {
    "collapsed": false
   },
   "outputs": [],
   "source": [
    "#Preprocess the data for country A test data - convert object types to categoricals\n",
    "# Standardize features\n",
    "def standardize(result, numeric_only=True):\n",
    "    numeric = result.select_dtypes(include=['int64', 'float64'])\n",
    "    \n",
    "    # subtracy mean and divide by std\n",
    "    Atest[numeric.columns] = (numeric - numeric.mean()) / numeric.std()\n",
    "    \n",
    "    return result\n",
    "    \n",
    "\n",
    "def pre_process_data(result, enforce_cols=None):\n",
    "    print(\"Input shape:\\t{}\".format(result.shape))\n",
    "        \n",
    "\n",
    "    df = standardize(result)\n",
    "    print(\"After standardization {}\".format(result.shape))\n",
    "        \n",
    "    # create dummy variables for categoricals\n",
    "    df = pd.get_dummies(result)\n",
    "    print(\"After converting categoricals:\\t{}\".format(result.shape))\n",
    "    \n",
    "\n",
    "    # match test set and training set columns\n",
    "    if enforce_cols is not None:\n",
    "        to_drop = np.setdiff1d(result.columns, enforce_cols)\n",
    "        to_add = np.setdiff1d(enforce_cols, result.columns)\n",
    "\n",
    "        result.drop(to_drop, axis=1, inplace=True)\n",
    "        df = result.assign(**{c: 0 for c in to_add})\n",
    "    \n",
    "    result.fillna(0, inplace=True)\n",
    "    \n",
    "    return df\n",
    "%matplotlib inline\n",
    "import numpy as np\n",
    "import seaborn as sns\n",
    "from sklearn import preprocessing\n",
    "def number_encode_features(Atest):\n",
    "    result2 = result.copy()\n",
    "    encoders = {}\n",
    "    for column in result2.columns:\n",
    "        if result2.dtypes[column] == np.object:\n",
    "            encoders[column] = preprocessing.LabelEncoder()\n",
    "            result2[column] = encoders[column].fit_transform(result[column])\n",
    "    return result, encoders\n",
    "\n",
    "def standardize(result2, numeric_only=True):\n",
    "    numeric = result2.select_dtypes(include=['int64', 'float64'])\n",
    "    \n",
    "    # subtracy mean and divide by std\n",
    "    result2[numeric.columns] = (numeric - numeric.mean()) / numeric.std()\n",
    "    \n",
    "    return result2\n",
    "    \n",
    "\n",
    "def pre_process_data(result2, enforce_cols=None):\n",
    "    print(\"Input shape:\\t{}\".format(result2.shape))\n",
    "        \n",
    "\n",
    "    df = standardize(result2)\n",
    "    print(\"After standardization {}\".format(result2.shape))\n",
    "        \n",
    "    # create dummy variables for categoricals\n",
    "    df = pd.get_dummies(result2)\n",
    "    print(\"After converting categoricals:\\t{}\".format(result2.shape))\n",
    "    \n",
    "\n",
    "    # match test set and training set columns\n",
    "    if enforce_cols is not None:\n",
    "        to_drop = np.setdiff1d(result2.columns, enforce_cols)\n",
    "        to_add = np.setdiff1d(enforce_cols, result2.columns)\n",
    "\n",
    "        result2.drop(to_drop, axis=1, inplace=True)\n",
    "        df = result2.assign(**{c: 0 for c in to_add})\n",
    "    \n",
    "    result2.fillna(0, inplace=True)\n",
    "    \n",
    "    return df"
   ]
  },
  {
   "cell_type": "code",
   "execution_count": 12,
   "metadata": {
    "collapsed": true
   },
   "outputs": [],
   "source": [
    "#Preprocess the data for country B test data - convert object types to categoricals\n",
    "# Standardize features\n",
    "def standardize(result, numeric_only=True):\n",
    "    numeric = result.select_dtypes(include=['int64', 'float64'])\n",
    "    \n",
    "    # subtracy mean and divide by std\n",
    "    Btest[numeric.columns] = (numeric - numeric.mean()) / numeric.std()\n",
    "    \n",
    "    return result\n",
    "    \n",
    "\n",
    "def pre_process_data(result, enforce_cols=None):\n",
    "    print(\"Input shape:\\t{}\".format(result.shape))\n",
    "        \n",
    "\n",
    "    df = standardize(result)\n",
    "    print(\"After standardization {}\".format(result.shape))\n",
    "        \n",
    "    # create dummy variables for categoricals\n",
    "    df = pd.get_dummies(result)\n",
    "    print(\"After converting categoricals:\\t{}\".format(result.shape))\n",
    "    \n",
    "\n",
    "    # match test set and training set columns\n",
    "    if enforce_cols is not None:\n",
    "        to_drop = np.setdiff1d(result.columns, enforce_cols)\n",
    "        to_add = np.setdiff1d(enforce_cols, result.columns)\n",
    "\n",
    "        result.drop(to_drop, axis=1, inplace=True)\n",
    "        df = result.assign(**{c: 0 for c in to_add})\n",
    "    \n",
    "    result.fillna(0, inplace=True)\n",
    "    \n",
    "    return df\n",
    "%matplotlib inline\n",
    "import numpy as np\n",
    "import seaborn as sns\n",
    "from sklearn import preprocessing\n",
    "def number_encode_features(Btest):\n",
    "    result2 = result.copy()\n",
    "    encoders = {}\n",
    "    for column in result2.columns:\n",
    "        if result2.dtypes[column] == np.object:\n",
    "            encoders[column] = preprocessing.LabelEncoder()\n",
    "            result2[column] = encoders[column].fit_transform(result[column])\n",
    "    return result, encoders\n",
    "\n",
    "def standardize(result2, numeric_only=True):\n",
    "    numeric = result2.select_dtypes(include=['int64', 'float64'])\n",
    "    \n",
    "    # subtracy mean and divide by std\n",
    "    result2[numeric.columns] = (numeric - numeric.mean()) / numeric.std()\n",
    "    \n",
    "    return result2\n",
    "    \n",
    "\n",
    "def pre_process_data(result2, enforce_cols=None):\n",
    "    print(\"Input shape:\\t{}\".format(result2.shape))\n",
    "        \n",
    "\n",
    "    df = standardize(result2)\n",
    "    print(\"After standardization {}\".format(result2.shape))\n",
    "        \n",
    "    # create dummy variables for categoricals\n",
    "    df = pd.get_dummies(result2)\n",
    "    print(\"After converting categoricals:\\t{}\".format(result2.shape))\n",
    "    \n",
    "\n",
    "    # match test set and training set columns\n",
    "    if enforce_cols is not None:\n",
    "        to_drop = np.setdiff1d(result2.columns, enforce_cols)\n",
    "        to_add = np.setdiff1d(enforce_cols, result2.columns)\n",
    "\n",
    "        result2.drop(to_drop, axis=1, inplace=True)\n",
    "        df = result2.assign(**{c: 0 for c in to_add})\n",
    "    \n",
    "    result2.fillna(0, inplace=True)\n",
    "    \n",
    "    return df"
   ]
  },
  {
   "cell_type": "code",
   "execution_count": 13,
   "metadata": {
    "collapsed": true
   },
   "outputs": [],
   "source": [
    "#Preprocess the data for country C test data - convert object types to categoricals\n",
    "# Standardize features\n",
    "def standardize(result, numeric_only=True):\n",
    "    numeric = result.select_dtypes(include=['int64', 'float64'])\n",
    "    \n",
    "    # subtracy mean and divide by std\n",
    "    Ctest[numeric.columns] = (numeric - numeric.mean()) / numeric.std()\n",
    "    \n",
    "    return result\n",
    "    \n",
    "\n",
    "def pre_process_data(result, enforce_cols=None):\n",
    "    print(\"Input shape:\\t{}\".format(result.shape))\n",
    "        \n",
    "\n",
    "    df = standardize(result)\n",
    "    print(\"After standardization {}\".format(result.shape))\n",
    "        \n",
    "    # create dummy variables for categoricals\n",
    "    df = pd.get_dummies(result)\n",
    "    print(\"After converting categoricals:\\t{}\".format(result.shape))\n",
    "    \n",
    "\n",
    "    # match test set and training set columns\n",
    "    if enforce_cols is not None:\n",
    "        to_drop = np.setdiff1d(result.columns, enforce_cols)\n",
    "        to_add = np.setdiff1d(enforce_cols, result.columns)\n",
    "\n",
    "        result.drop(to_drop, axis=1, inplace=True)\n",
    "        df = result.assign(**{c: 0 for c in to_add})\n",
    "    \n",
    "    result.fillna(0, inplace=True)\n",
    "    \n",
    "    return df\n",
    "%matplotlib inline\n",
    "import numpy as np\n",
    "import seaborn as sns\n",
    "from sklearn import preprocessing\n",
    "def number_encode_features(Ctest):\n",
    "    result2 = result.copy()\n",
    "    encoders = {}\n",
    "    for column in result2.columns:\n",
    "        if result2.dtypes[column] == np.object:\n",
    "            encoders[column] = preprocessing.LabelEncoder()\n",
    "            result2[column] = encoders[column].fit_transform(result[column])\n",
    "    return result, encoders\n",
    "\n",
    "def standardize(result2, numeric_only=True):\n",
    "    numeric = result2.select_dtypes(include=['int64', 'float64'])\n",
    "    \n",
    "    # subtracy mean and divide by std\n",
    "    result2[numeric.columns] = (numeric - numeric.mean()) / numeric.std()\n",
    "    \n",
    "    return result2\n",
    "    \n",
    "\n",
    "def pre_process_data(result2, enforce_cols=None):\n",
    "    print(\"Input shape:\\t{}\".format(result2.shape))\n",
    "        \n",
    "\n",
    "    df = standardize(result2)\n",
    "    print(\"After standardization {}\".format(result2.shape))\n",
    "        \n",
    "    # create dummy variables for categoricals\n",
    "    df = pd.get_dummies(result2)\n",
    "    print(\"After converting categoricals:\\t{}\".format(result2.shape))\n",
    "    \n",
    "\n",
    "    # match test set and training set columns\n",
    "    if enforce_cols is not None:\n",
    "        to_drop = np.setdiff1d(result2.columns, enforce_cols)\n",
    "        to_add = np.setdiff1d(enforce_cols, result2.columns)\n",
    "\n",
    "        result2.drop(to_drop, axis=1, inplace=True)\n",
    "        df = result2.assign(**{c: 0 for c in to_add})\n",
    "    \n",
    "    result2.fillna(0, inplace=True)\n",
    "    \n",
    "    return df"
   ]
  },
  {
   "cell_type": "code",
   "execution_count": 14,
   "metadata": {
    "collapsed": false
   },
   "outputs": [
    {
     "name": "stderr",
     "output_type": "stream",
     "text": [
      "C:\\Anaconda3\\lib\\site-packages\\sklearn\\cross_validation.py:41: DeprecationWarning: This module was deprecated in version 0.18 in favor of the model_selection module into which all the refactored classes and functions are moved. Also note that the interface of the new CV iterators are different from that of this module. This module will be removed in 0.20.\n",
      "  \"This module will be removed in 0.20.\", DeprecationWarning)\n",
      "C:\\Anaconda3\\lib\\site-packages\\ipykernel\\__main__.py:6: FutureWarning: using '-' to provide set differences with Indexes is deprecated, use .difference()\n"
     ]
    }
   ],
   "source": [
    "#Country A\n",
    "#Import necessary libraries\n",
    "import sklearn.cross_validation as cross_validation\n",
    "\n",
    "#Define y_train and y_test variables\n",
    "X_atrain, X_atest, y_atrain, y_atest = cross_validation.train_test_split(encoded_data[encoded_data.columns - ['poor']], \n",
    "    encoded_data[\"poor\"], train_size=0.80)\n",
    "\n",
    "#Let's scale the features with mean of 0 and variance of 1 using a Standard Scaler from scikit-learn\n",
    "scaler = preprocessing.StandardScaler()\n",
    "\n",
    "X_atrain = pd.DataFrame(scaler.fit_transform(X_atrain.astype(\"float64\")), columns=X_atrain.columns)\n",
    "X_atest = scaler.transform(X_atest.astype(\"float64\"))"
   ]
  },
  {
   "cell_type": "code",
   "execution_count": 15,
   "metadata": {
    "collapsed": false
   },
   "outputs": [
    {
     "name": "stderr",
     "output_type": "stream",
     "text": [
      "C:\\Anaconda3\\lib\\site-packages\\ipykernel\\__main__.py:6: FutureWarning: using '-' to provide set differences with Indexes is deprecated, use .difference()\n"
     ]
    }
   ],
   "source": [
    "#Country B\n",
    "#Import necessary libraries\n",
    "import sklearn.cross_validation as cross_validation\n",
    "\n",
    "#Define y_train and y_test variables\n",
    "X_btrain, X_btest, y_btrain, y_btest = cross_validation.train_test_split(encoded_data[encoded_data.columns - ['poor']], \n",
    "    encoded_data[\"poor\"], train_size=0.80)\n",
    "\n",
    "#Let's scale the features with mean of 0 and variance of 1 using a Standard Scaler from scikit-learn\n",
    "scaler = preprocessing.StandardScaler()\n",
    "\n",
    "X_btrain = pd.DataFrame(scaler.fit_transform(X_btrain.astype(\"float64\")), columns=X_btrain.columns)\n",
    "X_btest = scaler.transform(X_btest.astype(\"float64\"))"
   ]
  },
  {
   "cell_type": "code",
   "execution_count": 16,
   "metadata": {
    "collapsed": false
   },
   "outputs": [
    {
     "name": "stderr",
     "output_type": "stream",
     "text": [
      "C:\\Anaconda3\\lib\\site-packages\\ipykernel\\__main__.py:6: FutureWarning: using '-' to provide set differences with Indexes is deprecated, use .difference()\n"
     ]
    }
   ],
   "source": [
    "#Country C\n",
    "#Import necessary libraries\n",
    "import sklearn.cross_validation as cross_validation\n",
    "\n",
    "#Define all variables for Country C\n",
    "X_ctrain, X_ctest, y_ctrain, y_ctest = cross_validation.train_test_split(encoded_data[encoded_data.columns - ['poor']], \n",
    "    encoded_data[\"poor\"], train_size=0.80)\n",
    "\n",
    "#Let's scale the features with mean of 0 and variance of 1 using a Standard Scaler from scikit-learn\n",
    "scaler = preprocessing.StandardScaler()\n",
    "\n",
    "X_ctrain = pd.DataFrame(scaler.fit_transform(X_ctrain.astype(\"float64\")), columns=X_ctrain.columns)\n",
    "X_ctest = scaler.transform(X_ctest.astype(\"float64\"))"
   ]
  },
  {
   "cell_type": "code",
   "execution_count": 17,
   "metadata": {
    "collapsed": false
   },
   "outputs": [
    {
     "data": {
      "text/plain": [
       "MLPClassifier(activation='relu', alpha=0.0001, batch_size='auto', beta_1=0.9,\n",
       "       beta_2=0.999, early_stopping=False, epsilon=1e-08,\n",
       "       hidden_layer_sizes=(342, 342, 342, 342, 342),\n",
       "       learning_rate='constant', learning_rate_init=0.001, max_iter=1500,\n",
       "       momentum=0.9, nesterovs_momentum=True, power_t=0.5, random_state=1,\n",
       "       shuffle=True, solver='lbfgs', tol=0.0001, validation_fraction=0.1,\n",
       "       verbose=False, warm_start=False)"
      ]
     },
     "execution_count": 17,
     "metadata": {},
     "output_type": "execute_result"
    }
   ],
   "source": [
    "#Let's try a multiperceptron neural network on Country A training data\n",
    "from sklearn.neural_network import MLPClassifier\n",
    "#Create MLP model with 342 neurons and 4 layers. \n",
    "#Chose 342 since that's the number of features.\n",
    "#Do we need this many neurons for a low mean log loss?\n",
    "mlpatrain= MLPClassifier(solver='lbfgs', hidden_layer_sizes=(342,342,342,342,342), random_state=1,max_iter=1500)\n",
    "#Fit training data to model\n",
    "mlpatrain.fit(X_atrain,y_atrain)"
   ]
  },
  {
   "cell_type": "code",
   "execution_count": 18,
   "metadata": {
    "collapsed": false
   },
   "outputs": [
    {
     "name": "stdout",
     "output_type": "stream",
     "text": [
      "[[3636    0]\n",
      " [   0 2926]]\n",
      "             precision    recall  f1-score   support\n",
      "\n",
      "      False       1.00      1.00      1.00      3636\n",
      "       True       1.00      1.00      1.00      2926\n",
      "\n",
      "avg / total       1.00      1.00      1.00      6562\n",
      "\n"
     ]
    }
   ],
   "source": [
    "predictions = mlpatrain.predict(X_atrain)\n",
    "from sklearn.metrics import classification_report, confusion_matrix\n",
    "print(confusion_matrix(y_atrain,predictions))\n",
    "print(classification_report(y_atrain,predictions))"
   ]
  },
  {
   "cell_type": "code",
   "execution_count": 19,
   "metadata": {
    "collapsed": false,
    "scrolled": true
   },
   "outputs": [
    {
     "name": "stdout",
     "output_type": "stream",
     "text": [
      "Country A training log loss: 9.99200722163e-16\n"
     ]
    }
   ],
   "source": [
    "from sklearn.metrics import log_loss\n",
    "print(\"Country A training log loss:\", log_loss(y_atrain, mlpatrain.predict(X_atrain)))\n",
    "\n",
    "#Baseline mean log loss = 0.5739 so this is almost perfect!"
   ]
  },
  {
   "cell_type": "code",
   "execution_count": 20,
   "metadata": {
    "collapsed": false
   },
   "outputs": [
    {
     "name": "stdout",
     "output_type": "stream",
     "text": [
      "Country A training log loss: 0.063162284962\n"
     ]
    }
   ],
   "source": [
    "from sklearn.neural_network import MLPClassifier\n",
    "#Create MLP model with 342 neurons and 4 layers. \n",
    "#Chose 342 since that's the number of features.\n",
    "\n",
    "#Let's try a different solver\n",
    "mlpatrain= MLPClassifier(solver='adam', hidden_layer_sizes=(342,342,342,342,342), random_state=1,max_iter=1500)\n",
    "#Fit training data to model\n",
    "mlpatrain.fit(X_atrain,y_atrain)\n",
    "from sklearn.metrics import log_loss\n",
    "print(\"Country A training log loss:\", log_loss(y_atrain, mlpatrain.predict(X_atrain)))"
   ]
  },
  {
   "cell_type": "code",
   "execution_count": 27,
   "metadata": {
    "collapsed": false
   },
   "outputs": [
    {
     "name": "stdout",
     "output_type": "stream",
     "text": [
      "Country A training log loss: 1.98962994958\n"
     ]
    }
   ],
   "source": [
    "from sklearn.neural_network import MLPClassifier\n",
    "#Create MLP model with 4 neurons and 10 hidden layers. \n",
    "#Chose 342 since that's the number of features.\n",
    "\n",
    "#Let's try a different solver\n",
    "mlpatrain= MLPClassifier(solver='lbfgs', hidden_layer_sizes=(4,4,4,4,4,4,4,4,4,4,4), random_state=1,max_iter=1500)\n",
    "#Fit training data to model\n",
    "mlpatrain.fit(X_atrain,y_atrain)\n",
    "from sklearn.metrics import log_loss\n",
    "print(\"Country A training log loss:\", log_loss(y_atrain, mlpatrain.predict(X_atrain)))"
   ]
  },
  {
   "cell_type": "code",
   "execution_count": 32,
   "metadata": {
    "collapsed": false
   },
   "outputs": [
    {
     "name": "stdout",
     "output_type": "stream",
     "text": [
      "Country A training log loss: 0.0105270271849\n"
     ]
    }
   ],
   "source": [
    "from sklearn.neural_network import MLPClassifier\n",
    "#Create MLP model with 10 neurons and 3 hidden layers. \n",
    "#Chose 342 since that's the number of features.\n",
    "\n",
    "#Choosing number of neurons between 1 and the number of input variables.\n",
    "#Number of layers is 3 (http://www.heatonresearch.com/node/707 for supporting rationale and\n",
    "#Blum, A. (1992), Neural Networks in C++, NY: Wiley. )\n",
    "mlpatrain= MLPClassifier(solver='lbfgs', hidden_layer_sizes=(10,10,10), random_state=1,max_iter=1500,tol=1e-4)\n",
    "#Fit training data to model\n",
    "mlpatrain.fit(X_atrain,y_atrain)\n",
    "from sklearn.metrics import log_loss\n",
    "print(\"Country A training log loss:\", log_loss(y_atrain, mlpatrain.predict(X_atrain)))"
   ]
  },
  {
   "cell_type": "code",
   "execution_count": 33,
   "metadata": {
    "collapsed": false
   },
   "outputs": [
    {
     "name": "stdout",
     "output_type": "stream",
     "text": [
      "Country A training log loss: 0.0315814471128\n"
     ]
    }
   ],
   "source": [
    "from sklearn.neural_network import MLPClassifier\n",
    "#Create MLP model with 7 neurons and 3 hidden layers. \n",
    "#Chose 342 since that's the number of features.\n",
    "\n",
    "#Choosing number of neurons between 1 and the number of input variables.\n",
    "#Number of layers is 3 (http://www.heatonresearch.com/node/707 for supporting rationale and\n",
    "#Blum, A. (1992), Neural Networks in C++, NY: Wiley. )\n",
    "mlpatrain= MLPClassifier(solver='lbfgs', hidden_layer_sizes=(7,7,7), random_state=1,max_iter=1500,tol=1e-4)\n",
    "#Fit training data to model\n",
    "mlpatrain.fit(X_atrain,y_atrain)\n",
    "from sklearn.metrics import log_loss\n",
    "print(\"Country A training log loss:\", log_loss(y_atrain, mlpatrain.predict(X_atrain)))"
   ]
  },
  {
   "cell_type": "code",
   "execution_count": 34,
   "metadata": {
    "collapsed": false
   },
   "outputs": [
    {
     "name": "stdout",
     "output_type": "stream",
     "text": [
      "Country A training log loss: 0.152643539192\n"
     ]
    }
   ],
   "source": [
    "from sklearn.neural_network import MLPClassifier\n",
    "#Create MLP model with 7 neurons and 3 hidden layers. \n",
    "#Chose 342 since that's the number of features.\n",
    "\n",
    "#Choosing number of neurons between 1 and the number of input variables.\n",
    "#Number of layers is 3 (http://www.heatonresearch.com/node/707 for supporting rationale and\n",
    "#Blum, A. (1992), Neural Networks in C++, NY: Wiley. )\n",
    "mlpatrain= MLPClassifier(solver='lbfgs', hidden_layer_sizes=(7,7,7,7,7), random_state=1,max_iter=1500,tol=1e-4)\n",
    "#Fit training data to model\n",
    "mlpatrain.fit(X_atrain,y_atrain)\n",
    "from sklearn.metrics import log_loss\n",
    "print(\"Country A training log loss:\", log_loss(y_atrain, mlpatrain.predict(X_atrain)))"
   ]
  },
  {
   "cell_type": "code",
   "execution_count": 35,
   "metadata": {
    "collapsed": false
   },
   "outputs": [
    {
     "name": "stdout",
     "output_type": "stream",
     "text": [
      "Country A training log loss: 1.33693464583\n"
     ]
    }
   ],
   "source": [
    "from sklearn.neural_network import MLPClassifier\n",
    "#Create MLP model with 5 neurons and 3 hidden layers. \n",
    "#Chose 342 since that's the number of features.\n",
    "\n",
    "#Choosing number of neurons between 1 and the number of input variables.\n",
    "#Number of layers is 3 (http://www.heatonresearch.com/node/707 for supporting rationale and\n",
    "#Blum, A. (1992), Neural Networks in C++, NY: Wiley. )\n",
    "mlpatrain= MLPClassifier(solver='lbfgs', hidden_layer_sizes=(5,5,5), random_state=1,max_iter=1500,tol=1e-4)\n",
    "#Fit training data to model\n",
    "mlpatrain.fit(X_atrain,y_atrain)\n",
    "from sklearn.metrics import log_loss\n",
    "print(\"Country A training log loss:\", log_loss(y_atrain, mlpatrain.predict(X_atrain)))"
   ]
  },
  {
   "cell_type": "code",
   "execution_count": 31,
   "metadata": {
    "collapsed": false
   },
   "outputs": [
    {
     "name": "stdout",
     "output_type": "stream",
     "text": [
      "Country A training log loss: 0.0105269053322\n"
     ]
    }
   ],
   "source": [
    "from sklearn.neural_network import MLPClassifier\n",
    "#Create MLP model with 5 neurons and 3 hidden layers. \n",
    "#Chose 342 since that's the number of features.\n",
    "\n",
    "#Let's try a different solver\n",
    "mlpatrain= MLPClassifier(solver='lbfgs', hidden_layer_sizes=(15,15,15), random_state=1,max_iter=1500)\n",
    "#Fit training data to model\n",
    "mlpatrain.fit(X_atrain,y_atrain)\n",
    "from sklearn.metrics import log_loss\n",
    "print(\"Country A training log loss:\", log_loss(y_atrain, mlpatrain.predict(X_atrain)))"
   ]
  },
  {
   "cell_type": "code",
   "execution_count": 24,
   "metadata": {
    "collapsed": false
   },
   "outputs": [
    {
     "name": "stdout",
     "output_type": "stream",
     "text": [
      "[[901   0]\n",
      " [  0 740]]\n",
      "             precision    recall  f1-score   support\n",
      "\n",
      "      False       1.00      1.00      1.00       901\n",
      "       True       1.00      1.00      1.00       740\n",
      "\n",
      "avg / total       1.00      1.00      1.00      1641\n",
      "\n"
     ]
    }
   ],
   "source": [
    "#Let's try a multiperceptron neural network on Country A test data\n",
    "from sklearn.neural_network import MLPClassifier\n",
    "#Create MLP model with 342 neurons and 4 layers. (#features/3)\n",
    "mlpatest= MLPClassifier(solver='lbfgs', hidden_layer_sizes=(342,342,342,342,342), random_state=1,max_iter=1500)\n",
    "#Fit training data to model\n",
    "mlpatest.fit(X_atest,y_atest)\n",
    "\n",
    "predictions = mlpatest.predict(X_atest)\n",
    "from sklearn.metrics import classification_report, confusion_matrix\n",
    "print(confusion_matrix(y_atest,predictions))\n",
    "print(classification_report(y_atest,predictions))"
   ]
  },
  {
   "cell_type": "code",
   "execution_count": 26,
   "metadata": {
    "collapsed": false
   },
   "outputs": [
    {
     "name": "stdout",
     "output_type": "stream",
     "text": [
      "Country A test log loss: 9.99200722163e-16\n"
     ]
    }
   ],
   "source": [
    "from sklearn.metrics import log_loss\n",
    "print(\"Country A test log loss:\", log_loss(y_atest, mlpatest.predict(X_atest)))\n",
    "\n",
    "#Baseline mean log loss = 0.5739 so the A test results are much worse than the training"
   ]
  },
  {
   "cell_type": "code",
   "execution_count": 68,
   "metadata": {
    "collapsed": false
   },
   "outputs": [
    {
     "name": "stdout",
     "output_type": "stream",
     "text": [
      "[[3586    0]\n",
      " [   0 2976]]\n",
      "             precision    recall  f1-score   support\n",
      "\n",
      "      False       1.00      1.00      1.00      3586\n",
      "       True       1.00      1.00      1.00      2976\n",
      "\n",
      "avg / total       1.00      1.00      1.00      6562\n",
      "\n"
     ]
    }
   ],
   "source": [
    "#Country B training data Multi-layer perceptron\n",
    "from sklearn.neural_network import MLPClassifier\n",
    "#Create MLP model with 440 neurons  (country B has 440 features) and 4 layers. (#features/3)\n",
    "mlpbtrain= MLPClassifier(solver='lbfgs', hidden_layer_sizes=(440,440,440,440), random_state=1,max_iter=500)\n",
    "#Fit training data to model\n",
    "mlpbtrain.fit(X_btrain,y_btrain)\n",
    "predictions = mlpbtrain.predict(X_btrain)\n",
    "\n",
    "#Get the metrics\n",
    "from sklearn.metrics import classification_report, confusion_matrix\n",
    "print(confusion_matrix(y_btrain,predictions))\n",
    "print(classification_report(y_btrain,predictions))"
   ]
  },
  {
   "cell_type": "code",
   "execution_count": 69,
   "metadata": {
    "collapsed": false
   },
   "outputs": [
    {
     "name": "stdout",
     "output_type": "stream",
     "text": [
      "Country B training log loss: 9.99200722163e-16\n"
     ]
    }
   ],
   "source": [
    "from sklearn.metrics import log_loss\n",
    "print(\"Country B training log loss:\", log_loss(y_btrain, mlpbtrain.predict(X_btrain)))"
   ]
  },
  {
   "cell_type": "code",
   "execution_count": 78,
   "metadata": {
    "collapsed": false
   },
   "outputs": [
    {
     "name": "stdout",
     "output_type": "stream",
     "text": [
      "[[914   0]\n",
      " [  0 727]]\n",
      "             precision    recall  f1-score   support\n",
      "\n",
      "      False       1.00      1.00      1.00       914\n",
      "       True       1.00      1.00      1.00       727\n",
      "\n",
      "avg / total       1.00      1.00      1.00      1641\n",
      "\n"
     ]
    }
   ],
   "source": [
    "#Country B test data Multi-layer perceptron\n",
    "from sklearn.neural_network import MLPClassifier\n",
    "#Create MLP model with 440 neurons  (country B has 440 features) and 4 layers. (#features/3)\n",
    "mlpbtest= MLPClassifier(solver='lbfgs', hidden_layer_sizes=(440,440,440,440), random_state=1,max_iter=500)\n",
    "#Fit training data to model\n",
    "mlpbtest.fit(X_btest,y_btest)\n",
    "predictions = mlpbtest.predict(X_btest)\n",
    "\n",
    "#Get the metrics\n",
    "from sklearn.metrics import classification_report, confusion_matrix\n",
    "print(confusion_matrix(y_btest,predictions))\n",
    "print(classification_report(y_btest,predictions))"
   ]
  },
  {
   "cell_type": "code",
   "execution_count": 79,
   "metadata": {
    "collapsed": false
   },
   "outputs": [
    {
     "name": "stdout",
     "output_type": "stream",
     "text": [
      "Country B test log loss: 9.99200722163e-16\n"
     ]
    }
   ],
   "source": [
    "from sklearn.metrics import log_loss\n",
    "print(\"Country B test log loss:\", log_loss(y_btest, mlpbtest.predict(X_btest)))"
   ]
  },
  {
   "cell_type": "code",
   "execution_count": 71,
   "metadata": {
    "collapsed": false
   },
   "outputs": [
    {
     "name": "stdout",
     "output_type": "stream",
     "text": [
      "[[3595    0]\n",
      " [   0 2967]]\n",
      "             precision    recall  f1-score   support\n",
      "\n",
      "      False       1.00      1.00      1.00      3595\n",
      "       True       1.00      1.00      1.00      2967\n",
      "\n",
      "avg / total       1.00      1.00      1.00      6562\n",
      "\n"
     ]
    }
   ],
   "source": [
    "#Country C training data Multi-layer perceptron\n",
    "from sklearn.neural_network import MLPClassifier\n",
    "#Create MLP model with 163 neurons  (country C has 163 features) and 4 layers. (#features/3)\n",
    "mlpctrain= MLPClassifier(solver='lbfgs', hidden_layer_sizes=(163,163,163,163), random_state=1,max_iter=500)\n",
    "#Fit training data to model\n",
    "mlpctrain.fit(X_ctrain,y_ctrain)\n",
    "predictions = mlpctrain.predict(X_ctrain)\n",
    "\n",
    "#Get the metrics\n",
    "from sklearn.metrics import classification_report, confusion_matrix\n",
    "print(confusion_matrix(y_ctrain,predictions))\n",
    "print(classification_report(y_ctrain,predictions))"
   ]
  },
  {
   "cell_type": "code",
   "execution_count": 72,
   "metadata": {
    "collapsed": false
   },
   "outputs": [
    {
     "name": "stdout",
     "output_type": "stream",
     "text": [
      "Country C training log loss: 9.99200722163e-16\n"
     ]
    }
   ],
   "source": [
    "from sklearn.metrics import log_loss\n",
    "print(\"Country C training log loss:\", log_loss(y_ctrain, mlpctrain.predict(X_ctrain)))"
   ]
  },
  {
   "cell_type": "code",
   "execution_count": 82,
   "metadata": {
    "collapsed": false
   },
   "outputs": [
    {
     "name": "stdout",
     "output_type": "stream",
     "text": [
      "[[513 389]\n",
      " [414 325]]\n",
      "             precision    recall  f1-score   support\n",
      "\n",
      "      False       0.55      0.57      0.56       902\n",
      "       True       0.46      0.44      0.45       739\n",
      "\n",
      "avg / total       0.51      0.51      0.51      1641\n",
      "\n"
     ]
    }
   ],
   "source": [
    "#Country C test data Multi-layer perceptron\n",
    "from sklearn.neural_network import MLPClassifier\n",
    "#Create MLP model with 163 neurons  (country C has 163 features) and 4 layers. (#features/3)\n",
    "mlpctest= MLPClassifier(solver='lbfgs', hidden_layer_sizes=(163,163,163,163), random_state=1,max_iter=500)\n",
    "#Fit training data to model\n",
    "mlpctest.fit(X_ctest,y_ctest)\n",
    "predictions = mlpctrain.predict(X_ctest)\n",
    "\n",
    "#Get the metrics\n",
    "from sklearn.metrics import classification_report, confusion_matrix\n",
    "print(confusion_matrix(y_ctest,predictions))\n",
    "print(classification_report(y_ctest,predictions))"
   ]
  },
  {
   "cell_type": "code",
   "execution_count": 83,
   "metadata": {
    "collapsed": false
   },
   "outputs": [
    {
     "name": "stdout",
     "output_type": "stream",
     "text": [
      "Country C test log loss: 9.99200722163e-16\n"
     ]
    }
   ],
   "source": [
    "from sklearn.metrics import log_loss\n",
    "print(\"Country C test log loss:\", log_loss(y_ctest, mlpctest.predict(X_ctest)))"
   ]
  },
  {
   "cell_type": "code",
   "execution_count": 39,
   "metadata": {
    "collapsed": false
   },
   "outputs": [
    {
     "data": {
      "text/plain": [
       "SVC(C=1.0, cache_size=200, class_weight=None, coef0=0.0,\n",
       "  decision_function_shape='ovr', degree=3, gamma='auto', kernel='rbf',\n",
       "  max_iter=-1, probability=False, random_state=None, shrinking=True,\n",
       "  tol=0.001, verbose=False)"
      ]
     },
     "execution_count": 39,
     "metadata": {},
     "output_type": "execute_result"
    }
   ],
   "source": [
    "#Just to see how it compares to the ANN, \n",
    "#let's try a support vector machine to see if we can get a better handle on the data\n",
    "from sklearn.svm import SVC\n",
    "clf = SVC()\n",
    "clf.fit(X_atrain,y_atrain)"
   ]
  },
  {
   "cell_type": "code",
   "execution_count": 40,
   "metadata": {
    "collapsed": false
   },
   "outputs": [
    {
     "name": "stdout",
     "output_type": "stream",
     "text": [
      "[[781 115]\n",
      " [630 115]]\n",
      "             precision    recall  f1-score   support\n",
      "\n",
      "      False       0.55      0.87      0.68       896\n",
      "       True       0.50      0.15      0.24       745\n",
      "\n",
      "avg / total       0.53      0.55      0.48      1641\n",
      "\n"
     ]
    }
   ],
   "source": [
    "predictions = clf.predict(X_atest)\n",
    "from sklearn.metrics import classification_report, confusion_matrix\n",
    "print(confusion_matrix(y_atest,predictions))\n",
    "print(classification_report(y_atest,predictions))"
   ]
  },
  {
   "cell_type": "code",
   "execution_count": 44,
   "metadata": {
    "collapsed": false
   },
   "outputs": [
    {
     "name": "stdout",
     "output_type": "stream",
     "text": [
      "15.6803658549\n"
     ]
    }
   ],
   "source": [
    "from sklearn.metrics import log_loss\n",
    "print(log_loss(y_atest, clf.predict(X_atest)))\n",
    "\n",
    "#Log loss is way worse so it's best to stick with the ANNs."
   ]
  },
  {
   "cell_type": "code",
   "execution_count": 28,
   "metadata": {
    "collapsed": false
   },
   "outputs": [
    {
     "data": {
      "text/html": [
       "<div>\n",
       "<table border=\"1\" class=\"dataframe\">\n",
       "  <thead>\n",
       "    <tr style=\"text-align: right;\">\n",
       "      <th></th>\n",
       "      <th>id</th>\n",
       "      <th>country</th>\n",
       "      <th>poor</th>\n",
       "    </tr>\n",
       "  </thead>\n",
       "  <tbody>\n",
       "    <tr>\n",
       "      <th>8827</th>\n",
       "      <td>6775</td>\n",
       "      <td>C</td>\n",
       "      <td>9.992007e-16</td>\n",
       "    </tr>\n",
       "    <tr>\n",
       "      <th>8828</th>\n",
       "      <td>88300</td>\n",
       "      <td>C</td>\n",
       "      <td>9.992007e-16</td>\n",
       "    </tr>\n",
       "    <tr>\n",
       "      <th>8829</th>\n",
       "      <td>35424</td>\n",
       "      <td>C</td>\n",
       "      <td>9.992007e-16</td>\n",
       "    </tr>\n",
       "    <tr>\n",
       "      <th>8830</th>\n",
       "      <td>81668</td>\n",
       "      <td>C</td>\n",
       "      <td>9.992007e-16</td>\n",
       "    </tr>\n",
       "    <tr>\n",
       "      <th>8831</th>\n",
       "      <td>98377</td>\n",
       "      <td>C</td>\n",
       "      <td>9.992007e-16</td>\n",
       "    </tr>\n",
       "  </tbody>\n",
       "</table>\n",
       "</div>"
      ],
      "text/plain": [
       "         id country          poor\n",
       "8827   6775       C  9.992007e-16\n",
       "8828  88300       C  9.992007e-16\n",
       "8829  35424       C  9.992007e-16\n",
       "8830  81668       C  9.992007e-16\n",
       "8831  98377       C  9.992007e-16"
      ]
     },
     "execution_count": 28,
     "metadata": {},
     "output_type": "execute_result"
    }
   ],
   "source": [
    "submission = pd.read_csv(\"WB_LKahn3.csv\")\n",
    "submission.tail(5)"
   ]
  },
  {
   "cell_type": "code",
   "execution_count": null,
   "metadata": {
    "collapsed": true
   },
   "outputs": [],
   "source": []
  }
 ],
 "metadata": {
  "kernelspec": {
   "display_name": "Python 3",
   "language": "python",
   "name": "python3"
  },
  "language_info": {
   "codemirror_mode": {
    "name": "ipython",
    "version": 3
   },
   "file_extension": ".py",
   "mimetype": "text/x-python",
   "name": "python",
   "nbconvert_exporter": "python",
   "pygments_lexer": "ipython3",
   "version": "3.5.4"
  }
 },
 "nbformat": 4,
 "nbformat_minor": 2
}
